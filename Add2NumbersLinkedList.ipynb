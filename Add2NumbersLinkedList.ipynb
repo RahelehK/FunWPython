{
 "cells": [
  {
   "cell_type": "markdown",
   "metadata": {},
   "source": [
    "Add Two Numbers:\n",
    "\n",
    "The input numbers are represented by non-empty linked lists. \n",
    "\n",
    "Note: The digits are stored in reverse order and each of their nodes contain a single digit.\n",
    "\n",
    "Input: (2 -> 4 -> 3) + (5 -> 6 -> 4)\n",
    "\n",
    "Output: 7 -> 0 -> 8\n",
    "\n",
    "Explanation: 342 + 465 = 807."
   ]
  },
  {
   "cell_type": "code",
   "execution_count": null,
   "metadata": {},
   "outputs": [],
   "source": [
    "# Definition for singly-linked list.\n",
    "# class ListNode:\n",
    "#     def __init__(self, x):\n",
    "#         self.val = x\n",
    "#         self.next = None"
   ]
  },
  {
   "cell_type": "code",
   "execution_count": null,
   "metadata": {},
   "outputs": [],
   "source": [
    "def stringToListNode(input):  ##provided in the question\n",
    "    # Generate list from the input\n",
    "    numbers = stringToIntegerList(input)\n",
    "\n",
    "    # Now convert that list into linked list\n",
    "    dummyRoot = ListNode(0)\n",
    "    ptr = dummyRoot\n",
    "    for number in numbers:\n",
    "        ptr.next = ListNode(number)\n",
    "        ptr = ptr.next\n",
    "\n",
    "    ptr = dummyRoot.next\n",
    "    return ptr"
   ]
  },
  {
   "cell_type": "code",
   "execution_count": null,
   "metadata": {},
   "outputs": [],
   "source": [
    "def addTwoNumbers(self, l1, l2):\n",
    "        \"\"\"\n",
    "        :type l1: ListNode\n",
    "        :type l2: ListNode\n",
    "        :rtype: ListNode\n",
    "        \"\"\"\n",
    "        l1_temp=[]\n",
    "        l2_temp=[]\n",
    "        while(l1.next != None):\n",
    "            l1_temp.append(l1.val)\n",
    "            l1= l1.next\n",
    "        l1_temp.append(l1.val)\n",
    "        while(l2.next != None):\n",
    "            l2_temp.append(l2.val)\n",
    "            l2= l2.next\n",
    "        l2_temp.append(l2.val)\n",
    "        l1_r= l1_temp[::-1]\n",
    "        l2_r= l2_temp[::-1]\n",
    "        out_l= int(''.join([str(x) for x in l1_r]))+ int(''.join([str(y) for y in l2_r]))\n",
    "        tmp_list=list(str(out_l))[::-1]\n",
    "        return [int(x) for x in tmp_list]"
   ]
  }
 ],
 "metadata": {
  "kernelspec": {
   "display_name": "Python 3",
   "language": "python",
   "name": "python3"
  },
  "language_info": {
   "codemirror_mode": {
    "name": "ipython",
    "version": 3
   },
   "file_extension": ".py",
   "mimetype": "text/x-python",
   "name": "python",
   "nbconvert_exporter": "python",
   "pygments_lexer": "ipython3",
   "version": "3.6.6"
  }
 },
 "nbformat": 4,
 "nbformat_minor": 2
}
